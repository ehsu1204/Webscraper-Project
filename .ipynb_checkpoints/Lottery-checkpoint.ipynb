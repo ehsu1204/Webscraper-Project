{
 "cells": [
  {
   "cell_type": "markdown",
   "id": "46a2be2e",
   "metadata": {},
   "source": [
    "<u><b><span style = \"font-size:20.0pt\">Python Webscraper </span><b><u>\n",
    "\n",
    "    \n",
    "***\n",
    "<b><span style= \"font-size: 14.0pt\"> Objective for this project:</span></b> \n",
    "<span style= \"font-size: 14.0pt\">Find the most frequently drawn numbers and bonus numbers for lotto 6/49 given available public data. </span>\n",
    "    \n",
    "\n",
    "<b><span style = \"font-size:14.0pt\"> What will be used:</span><b>\n",
    "    \n",
    "    \n",
    "    \n",
    "    1. Python3\n",
    "    2. Pandas\n",
    "    3. Matplotlib\n",
    "    4. Beautifulsoup\n",
    "    \n",
    "\n",
    "\n",
    "<b><span style= \"font-size: 14.0pt\"> Process: </span><b>\n",
    "    \n",
    "              \n",
    "\n",
    "    1. Scrape the website: https://www.national-lottery.com/canada-6-49/results/2021-archive\n",
    "    2. Load the available data into a CSV file\n",
    "    3. Use Matplotlib to plot findings"
   ]
  },
  {
   "cell_type": "markdown",
   "id": "cda05516",
   "metadata": {},
   "source": [
    "<b><span style = \"font-size:14.0pt\">Installation:</span><b>"
   ]
  },
  {
   "cell_type": "code",
   "execution_count": 1,
   "id": "0e9c52a6",
   "metadata": {
    "scrolled": true
   },
   "outputs": [],
   "source": [
    "#pip install bs4\n",
    "#pip install requests\n",
    "#pip install matplotlib\n",
    "#pip install html5lib\n",
    "#pip install pandas"
   ]
  },
  {
   "cell_type": "markdown",
   "id": "99e5a7f5",
   "metadata": {},
   "source": [
    "<b><span style = \"font-size:14.0pt\">Imports: </span><b>"
   ]
  },
  {
   "cell_type": "code",
   "execution_count": 2,
   "id": "ff4ac2be",
   "metadata": {},
   "outputs": [],
   "source": [
    "from bs4 import BeautifulSoup\n",
    "import requests\n",
    "import pandas as pd\n",
    "import matplotlib.pyplot as plt\n",
    "import html5lib"
   ]
  },
  {
   "cell_type": "markdown",
   "id": "9d8a79d5",
   "metadata": {},
   "source": [
    "<b><span style = \"font-size:14.0pt\">Functions Used To Webscrape: </span><b>"
   ]
  },
  {
   "cell_type": "code",
   "execution_count": 3,
   "id": "f0a56e8e",
   "metadata": {},
   "outputs": [],
   "source": [
    "def create_url(url, years): #Loops through all webpages\n",
    "    urls = []\n",
    "    for year in years:\n",
    "        new_url = url + str(year) + '-archive'\n",
    "        urls.append(new_url)\n",
    "    return urls\n",
    "\n",
    "\n",
    "\n",
    "def request_page(url): #Requesting html pages\n",
    "    response = requests.get(url)\n",
    "    return response"
   ]
  },
  {
   "cell_type": "markdown",
   "id": "8d1b4501",
   "metadata": {},
   "source": [
    "<b><span style = \"font-size:14.0pt\">Extracting Function:</span><b>"
   ]
  },
  {
   "cell_type": "code",
   "execution_count": 4,
   "id": "a6ea08a4",
   "metadata": {},
   "outputs": [],
   "source": [
    "def extracting(data):\n",
    "\n",
    "    pasta = BeautifulSoup(data, 'html.parser')\n",
    "    lists = pasta.find_all('table', class_=\"table lotto mobFormat mobResult\")#class is from the webpage\n",
    "    df_list = pd.read_html(str(lists), flavor='bs4')\n",
    "    df = pd.concat(df_list)  # making it so that you can add indexes\n",
    "    new_df = df.drop(2)  # deleting the ad on the webpage\n",
    "\n",
    "    return new_df"
   ]
  },
  {
   "cell_type": "markdown",
   "id": "a8cf49aa",
   "metadata": {},
   "source": [
    "<b><span style = \"font-size:14.0pt\">Transformating Data Function:</span><b>\n",
    "    \n",
    "    1. The date format will now be in the format YYYY-(Full Name of Month)-DD. \n",
    "    2. There will be a new column called \"Bonus\" being created which is grabs the last element of the list"
   ]
  },
  {
   "cell_type": "code",
   "execution_count": 5,
   "id": "59984ef9",
   "metadata": {},
   "outputs": [],
   "source": [
    "def format_date(new_df):\n",
    "    new_df[\"Draw Date\"] = pd.to_datetime(new_df[\"Draw Date\"]) #converting the formats of the date\n",
    "    new_df[\"Draw Date\"] = new_df[\"Draw Date\"].dt.strftime(\"%Y %B %-d\")\n",
    "\n",
    "def format_numbers(new_df):\n",
    "    new_df[\"Bonus\"] = new_df[\"Results\"].apply(lambda x: x[-2:])  # getting the last element and creating a new column\n",
    "    new_df[\"Results\"] = new_df[\"Results\"].apply(lambda x: x[:-2].split())\n",
    "\n",
    "\n",
    "def final_format(new_df): #combining the above two functions\n",
    "    format_date(new_df)\n",
    "    format_numbers(new_df) "
   ]
  },
  {
   "cell_type": "markdown",
   "id": "904dab8e",
   "metadata": {},
   "source": [
    "<b><span style = \"font-size:14.0pt\">Renaming a data frame with the following columns: </span><b>"
   ]
  },
  {
   "cell_type": "code",
   "execution_count": 6,
   "id": "86eb77b0",
   "metadata": {},
   "outputs": [],
   "source": [
    "columns = [\"Draw Date\", \"Results\", \"Bonus\", \"Jackpot\", \"Outcome\"]"
   ]
  },
  {
   "cell_type": "markdown",
   "id": "775f0bf8",
   "metadata": {},
   "source": [
    "<b><span style = \"font-size:14.0pt\">Writing to CSV file</span><b>\n",
    "    \n",
    "    The function below will load the data into a csv file. \n",
    "    "
   ]
  },
  {
   "cell_type": "code",
   "execution_count": 7,
   "id": "354c5876",
   "metadata": {},
   "outputs": [],
   "source": [
    "def writing_to_csv(file, data):\n",
    "    data_to_load = pd.DataFrame(data, columns= columns)\n",
    "    data_to_load.to_csv(file, index=False)\n",
    "    return data_to_load"
   ]
  },
  {
   "cell_type": "markdown",
   "id": "237ab2c4",
   "metadata": {},
   "source": [
    "<b><span style = \"font-size:14.0pt\">Finding The Most Frequent Numbers</span></b>\n",
    "    \n",
    "    The code below describes the actual process of scraping the website and then converting it into a\n",
    "    csv file. \n",
    "    "
   ]
  },
  {
   "cell_type": "code",
   "execution_count": 8,
   "id": "612b8ef3",
   "metadata": {},
   "outputs": [],
   "source": [
    "file = \"lotto_six_four_nine.csv\" \n",
    "years = [x for x in range(2012, 2022)] #Only finding the numbers from 2012-2022\n",
    "url = \"https://www.national-lottery.com/canada-6-49/results/\" #Website being scraped\n",
    "hello = create_url(url, years)\n",
    "blank = \"\"\n",
    "\n",
    "for url in hello:\n",
    "    blank += request_page(url).text\n",
    "new_data = extracting(blank)\n",
    "final_format(new_data)\n",
    "writing_to_csv(file, new_data)\n",
    "csv_path = \"lotto_six_four_nine.csv\"\n",
    "final = pd.read_csv(csv_path)"
   ]
  },
  {
   "cell_type": "markdown",
   "id": "027304a3",
   "metadata": {},
   "source": [
    "<b><span style = \"font-size:14.0pt\">Functions Used To Store : </span><b>\n",
    "    \n",
    "A dictionary will be used such that the key represents the numebr and the value associated with the key represents the frequency at which the number is drawn. Due to the fact that number is not a list, we will run into a type error which is solved in the second half of the code in the storing_values function.\n",
    "    "
   ]
  },
  {
   "cell_type": "code",
   "execution_count": 9,
   "id": "a0f2cd64",
   "metadata": {},
   "outputs": [],
   "source": [
    "def storing_values(final, column): \n",
    "    dictionary = {}                    #storing the numbers as a dictionary\n",
    "    try:\n",
    "        for numbers in final[column].apply(eval):\n",
    "            for num in numbers:\n",
    "                if num not in dictionary:\n",
    "                    dictionary[num] = 1\n",
    "                else:\n",
    "                    dictionary[num] +=1\n",
    "        return dictionary\n",
    "    except TypeError:                  \n",
    "        for numbers in final[column]:\n",
    "            if numbers not in dictionary:\n",
    "                dictionary[numbers] = 1\n",
    "            else:\n",
    "                dictionary[numbers] += 1\n",
    "\n",
    "        return dictionary\n",
    "    \n",
    "def reformatting_dictionary(dictionary, column):\n",
    "    reformatted = pd.DataFrame(list(dictionary.items())) #listing the dataframe with two columns\n",
    "    reformatted.columns = [column, 'Frequency'] \n",
    "    return reformatted\n",
    "\n",
    "\n",
    "def sorting_numbers(dictionary, column):\n",
    "    reformatted = reformatting_dictionary(dictionary, column)\n",
    "    sort_frequency = reformatted.sort_values(by = \"Frequency\", ascending= False)\n",
    "    sort_frequency.reset_index(drop=True, inplace=True)\n",
    "    return sort_frequency"
   ]
  },
  {
   "cell_type": "markdown",
   "id": "d0e5393c",
   "metadata": {},
   "source": [
    "<b><span style = \"font-size:14.0pt\">Plotting Results: </span><b>"
   ]
  },
  {
   "cell_type": "code",
   "execution_count": 10,
   "id": "8eb283a3",
   "metadata": {},
   "outputs": [
    {
     "name": "stdout",
     "output_type": "stream",
     "text": [
      "  Results  Frequency\n",
      "0      45        152\n",
      "1      38        148\n",
      "2      21        142\n",
      "3      22        141\n",
      "4      23        140\n"
     ]
    }
   ],
   "source": [
    "def create_plot(final, column): # function used to plot\n",
    "    updated_data = storing_values(final, column)\n",
    "    new_reset = sorting_numbers(updated_data, column)\n",
    "    fig, ax = plt.subplots(figsize=(10.5, 8))\n",
    "    ax = new_reset.plot(x= column , y=\"Frequency\", kind=\"bar\", ax=ax)\n",
    "    fig.tight_layout()\n",
    "    return plt.show()\n",
    "\n",
    "\n",
    "Results1 = storing_values(final, \"Results\")\n",
    "Sort = sorting_numbers(Results1, \"Results\")\n",
    "print(Sort.head(5))\n"
   ]
  },
  {
   "cell_type": "markdown",
   "id": "58a2e86e",
   "metadata": {},
   "source": [
    "<b><span style = \"font-size:14.0pt\">Most Frequent Bonus Numbers: </span><b>"
   ]
  },
  {
   "cell_type": "code",
   "execution_count": 11,
   "id": "e1be09de",
   "metadata": {},
   "outputs": [
    {
     "name": "stdout",
     "output_type": "stream",
     "text": [
      "   Bonus  Frequency\n",
      "0      5         31\n",
      "1      9         31\n",
      "2      3         28\n",
      "3     10         28\n",
      "4     21         28\n"
     ]
    },
    {
     "data": {
      "image/png": "[encoded data removed]",
      "text/plain": [
       "<Figure size 756x576 with 1 Axes>"
      ]
     },
     "metadata": {
      "needs_background": "light"
     },
     "output_type": "display_data"
    }
   ],
   "source": [
    "\n",
    "Results1 = storing_values(final, \"Bonus\")\n",
    "Sort = sorting_numbers(Results1, \"Bonus\")\n",
    "print(Sort.head(5))\n",
    "\n",
    "create_plot(final, \"Bonus\")"
   ]
  },
  {
   "cell_type": "markdown",
   "id": "62b352bc",
   "metadata": {},
   "source": [
    "<b><span style = \"font-size:14.0pt\">Final Remarks: </span><b>\n",
    "\n",
    "The top numbers for the draws in Lotto 6/49 from 2012-2021 are 45, 38, 21, 22, and 23 and the top numbers for the bonus draw are 5,9,3,10, and 21.\n",
    "\n",
    "Some other analysis that could have been done is figuring out if there was a specific day in the week where there are more more wins on Wednesday or Saturday draws. "
   ]
  }
 ],
 "metadata": {
  "kernelspec": {
   "display_name": "Python 3 (ipykernel)",
   "language": "python",
   "name": "python3"
  },
  "language_info": {
   "codemirror_mode": {
    "name": "ipython",
    "version": 3
   },
   "file_extension": ".py",
   "mimetype": "text/x-python",
   "name": "python",
   "nbconvert_exporter": "python",
   "pygments_lexer": "ipython3",
   "version": "3.9.12"
  }
 },
 "nbformat": 4,
 "nbformat_minor": 5
}
